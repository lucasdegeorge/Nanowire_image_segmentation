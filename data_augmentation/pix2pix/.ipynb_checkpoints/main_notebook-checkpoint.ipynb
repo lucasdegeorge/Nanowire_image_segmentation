{
 "cells": [
  {
   "cell_type": "code",
   "execution_count": 1,
   "id": "2f999263-24d3-4ccf-8c32-ed5998ac4d11",
   "metadata": {},
   "outputs": [],
   "source": [
    "!pip install tensorboard --quiet\n",
    "!pip install matplotlib --quiet"
   ]
  },
  {
   "cell_type": "code",
   "execution_count": 2,
   "id": "606a4cdf-c314-4e9c-b2ac-28d587cbea32",
   "metadata": {},
   "outputs": [],
   "source": [
    "import time\n",
    "import torch\n",
    "# from torch.utils.tensorboard import SummaryWriter\n",
    "from datetime import date, datetime\n",
    "import json\n",
    "import sys\n",
    "\n",
    "import io\n",
    "import s3fs\n",
    "\n",
    "from generator import UnetGenerator\n",
    "from discriminator import ConditionalDiscriminator\n",
    "from pix2pix_loss import GeneratorLoss, DiscriminatorLoss\n",
    "from pix2pix_trainer import *\n",
    "\n",
    "import os\n",
    "print(os.getcwd())"
   ]
  },
  {
   "cell_type": "code",
   "execution_count": 3,
   "id": "2ab57a82-5ab7-4c15-9781-82d5d10984a6",
   "metadata": {},
   "outputs": [],
   "source": [
    "device = torch.device(\"cuda\") \n",
    "\n",
    "# Create filesystem object\n",
    "S3_ENDPOINT_URL = \"https://\" + os.environ[\"AWS_S3_ENDPOINT\"]\n",
    "fs = s3fs.S3FileSystem(client_kwargs={'endpoint_url': S3_ENDPOINT_URL})\n",
    "\n",
    "# BUCKET = \"ldegeorge/images\"\n",
    "# fs.ls(BUCKET)"
   ]
  },
  {
   "cell_type": "code",
   "execution_count": 4,
   "id": "792ab50e-96f9-44fa-9058-b5826d373e08",
   "metadata": {},
   "outputs": [
    {
     "name": "stdout",
     "output_type": "stream",
     "text": [
      "dataloader ok\n"
     ]
    }
   ],
   "source": [
    "images = []\n",
    "masks = []\n",
    "converter = T.ToTensor()\n",
    "\n",
    "bucket = \"ldegeorge/images\"\n",
    "for path in fs.ls(bucket):\n",
    "    if path == 'ldegeorge/images/.keep':\n",
    "        pass\n",
    "    else:\n",
    "        with fs.open(path, 'rb') as file:\n",
    "            image_data = file.read()\n",
    "            image = Image.open(io.BytesIO(image_data)).convert(\"L\")\n",
    "            image = converter(image)\n",
    "            images.append(image)\n",
    "\n",
    "bucket = \"ldegeorge/binary_masks\"\n",
    "for path in fs.ls(bucket):\n",
    "    if path == 'ldegeorge/binary_masks/.keep':\n",
    "        pass\n",
    "    else:\n",
    "        with fs.open(path, 'rb') as file:\n",
    "            image_data = file.read()\n",
    "            mask = Image.open(io.BytesIO(image_data)).convert(\"L\")\n",
    "            mask = T.functional.to_tensor(mask) * 255\n",
    "            masks.append(mask)\n",
    "\n",
    "batch_size = 8\n",
    "dataset = ImageMaskDataset(images, masks)\n",
    "dataloader = DataLoader(dataset, batch_size=batch_size, shuffle=True, drop_last=True, pin_memory=True)\n",
    "print(\"dataloader ok\")"
   ]
  },
  {
   "cell_type": "code",
   "execution_count": 5,
   "id": "51a552fc-9709-488a-bc54-c5982e2a1808",
   "metadata": {},
   "outputs": [],
   "source": [
    "def main():\n",
    "\n",
    "    torch.cuda.empty_cache()\n",
    "    timestamp = datetime.now().strftime('%Y%m%d_%H%M%S')\n",
    "    print(\"start training\")\n",
    "    start_time = time.time()\n",
    "    lr = 0.0002\n",
    "\n",
    "    generator = UnetGenerator().to(device)\n",
    "    discriminator = ConditionalDiscriminator().to(device)\n",
    "    criterions = [ GeneratorLoss(alpha=100), DiscriminatorLoss() ]\n",
    "\n",
    "    trainer = pix2pix_trainer(generator, discriminator, criterions, lr, batch_size, timestamp=timestamp, dataloader=dataloader)\n",
    "    trainer.train()\n",
    "\n",
    "    print(\"end of training\")"
   ]
  },
  {
   "cell_type": "code",
   "execution_count": 6,
   "id": "d73d8d38-a771-4027-a3d6-a4a3405c6fe6",
   "metadata": {},
   "outputs": [
    {
     "name": "stdout",
     "output_type": "stream",
     "text": [
      "start training\n",
      "28\n"
     ]
    },
    {
     "ename": "FileNotFoundError",
     "evalue": "[Errno 2] No such file or directory: 'work/Nanowire_image_segmentation/data_augmentation/pix2pix/logs/logs_pix2pix_20230703_132526.txt'",
     "output_type": "error",
     "traceback": [
      "\u001b[0;31m---------------------------------------------------------------------------\u001b[0m",
      "\u001b[0;31mFileNotFoundError\u001b[0m                         Traceback (most recent call last)",
      "Cell \u001b[0;32mIn[6], line 1\u001b[0m\n\u001b[0;32m----> 1\u001b[0m \u001b[43mmain\u001b[49m\u001b[43m(\u001b[49m\u001b[43m)\u001b[49m\n",
      "Cell \u001b[0;32mIn[5], line 14\u001b[0m, in \u001b[0;36mmain\u001b[0;34m()\u001b[0m\n\u001b[1;32m     11\u001b[0m criterions \u001b[38;5;241m=\u001b[39m [ GeneratorLoss(alpha\u001b[38;5;241m=\u001b[39m\u001b[38;5;241m100\u001b[39m), DiscriminatorLoss() ]\n\u001b[1;32m     13\u001b[0m trainer \u001b[38;5;241m=\u001b[39m pix2pix_trainer(generator, discriminator, criterions, lr, batch_size, timestamp\u001b[38;5;241m=\u001b[39mtimestamp, dataloader\u001b[38;5;241m=\u001b[39mdataloader)\n\u001b[0;32m---> 14\u001b[0m \u001b[43mtrainer\u001b[49m\u001b[38;5;241;43m.\u001b[39;49m\u001b[43mtrain\u001b[49m\u001b[43m(\u001b[49m\u001b[43m)\u001b[49m\n\u001b[1;32m     16\u001b[0m \u001b[38;5;28mprint\u001b[39m(\u001b[38;5;124m\"\u001b[39m\u001b[38;5;124mend of training\u001b[39m\u001b[38;5;124m\"\u001b[39m)\n",
      "File \u001b[0;32m~/work/Nanowire_image_segmentation/data_augmentation/pix2pix/pix2pix_trainer.py:101\u001b[0m, in \u001b[0;36mpix2pix_trainer.train\u001b[0;34m(self)\u001b[0m\n\u001b[1;32m     99\u001b[0m \u001b[38;5;28;01mdef\u001b[39;00m \u001b[38;5;21mtrain\u001b[39m(\u001b[38;5;28mself\u001b[39m):\n\u001b[1;32m    100\u001b[0m     writer \u001b[38;5;241m=\u001b[39m SummaryWriter(\u001b[38;5;124m'\u001b[39m\u001b[38;5;124mruns/trainer_\u001b[39m\u001b[38;5;132;01m{}\u001b[39;00m\u001b[38;5;124m'\u001b[39m\u001b[38;5;241m.\u001b[39mformat(\u001b[38;5;28mself\u001b[39m\u001b[38;5;241m.\u001b[39mtimestamp))\n\u001b[0;32m--> 101\u001b[0m     \u001b[38;5;28;01mwith\u001b[39;00m \u001b[38;5;28;43mopen\u001b[39;49m\u001b[43m(\u001b[49m\u001b[38;5;124;43m\"\u001b[39;49m\u001b[38;5;124;43mwork/Nanowire_image_segmentation/data_augmentation/pix2pix/logs/logs_pix2pix_\u001b[39;49m\u001b[38;5;124;43m\"\u001b[39;49m\u001b[43m \u001b[49m\u001b[38;5;241;43m+\u001b[39;49m\u001b[43m \u001b[49m\u001b[38;5;28;43mstr\u001b[39;49m\u001b[43m(\u001b[49m\u001b[38;5;28;43mself\u001b[39;49m\u001b[38;5;241;43m.\u001b[39;49m\u001b[43mtimestamp\u001b[49m\u001b[43m)\u001b[49m\u001b[43m \u001b[49m\u001b[38;5;241;43m+\u001b[39;49m\u001b[43m \u001b[49m\u001b[38;5;124;43m\"\u001b[39;49m\u001b[38;5;124;43m.txt\u001b[39;49m\u001b[38;5;124;43m\"\u001b[39;49m\u001b[43m,\u001b[49m\u001b[38;5;124;43m\"\u001b[39;49m\u001b[38;5;124;43mx\u001b[39;49m\u001b[38;5;124;43m\"\u001b[39;49m\u001b[43m)\u001b[49m \u001b[38;5;28;01mas\u001b[39;00m crea:\n\u001b[1;32m    102\u001b[0m         crea\u001b[38;5;241m.\u001b[39mclose()\n\u001b[1;32m    103\u001b[0m     \u001b[38;5;28;01mwith\u001b[39;00m \u001b[38;5;28mopen\u001b[39m(\u001b[38;5;124m\"\u001b[39m\u001b[38;5;124mwork/Nanowire_image_segmentation/data_augmentation/pix2pix/logs/logs_pix2pix_\u001b[39m\u001b[38;5;124m\"\u001b[39m \u001b[38;5;241m+\u001b[39m \u001b[38;5;28mstr\u001b[39m(\u001b[38;5;28mself\u001b[39m\u001b[38;5;241m.\u001b[39mtimestamp) \u001b[38;5;241m+\u001b[39m \u001b[38;5;124m\"\u001b[39m\u001b[38;5;124m.txt\u001b[39m\u001b[38;5;124m\"\u001b[39m,\u001b[38;5;124m\"\u001b[39m\u001b[38;5;124ma\u001b[39m\u001b[38;5;124m\"\u001b[39m) \u001b[38;5;28;01mas\u001b[39;00m logs :\n",
      "\u001b[0;31mFileNotFoundError\u001b[0m: [Errno 2] No such file or directory: 'work/Nanowire_image_segmentation/data_augmentation/pix2pix/logs/logs_pix2pix_20230703_132526.txt'"
     ]
    }
   ],
   "source": [
    "main()"
   ]
  }
 ],
 "metadata": {
  "kernelspec": {
   "display_name": "Python 3 (ipykernel)",
   "language": "python",
   "name": "python3"
  },
  "language_info": {
   "codemirror_mode": {
    "name": "ipython",
    "version": 3
   },
   "file_extension": ".py",
   "mimetype": "text/x-python",
   "name": "python",
   "nbconvert_exporter": "python",
   "pygments_lexer": "ipython3",
   "version": "3.10.9"
  }
 },
 "nbformat": 4,
 "nbformat_minor": 5
}
